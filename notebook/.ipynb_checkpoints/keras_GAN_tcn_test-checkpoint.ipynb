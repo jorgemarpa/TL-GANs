{
 "cells": [
  {
   "cell_type": "code",
   "execution_count": 1,
   "metadata": {
    "ExecuteTime": {
     "end_time": "2019-03-15T22:56:58.089816Z",
     "start_time": "2019-03-15T22:56:53.439703Z"
    }
   },
   "outputs": [
    {
     "name": "stderr",
     "output_type": "stream",
     "text": [
      "Using TensorFlow backend.\n"
     ]
    }
   ],
   "source": [
    "import os, sys, io\n",
    "import datetime\n",
    "import joblib\n",
    "import numpy as np\n",
    "import matplotlib.pyplot as plt\n",
    "from tqdm import tqdm_notebook, tnrange\n",
    "\n",
    "from keras.layers import *\n",
    "from keras.layers.core import *\n",
    "from keras.layers.convolutional import *\n",
    "from keras.models import Model, Sequential\n",
    "from keras.optimizers import Adam\n",
    "from keras.callbacks import TensorBoard\n",
    "from keras import initializers\n",
    "import tensorflow as tf\n",
    "\n",
    "from sklearn import model_selection\n",
    "\n",
    "sys.path.append('%s/lib' % (os.path.abspath('..')))\n",
    "from SyntheticLCGenerator import synthetic_light_curve_generator\n",
    "from nets_ae_clf import *"
   ]
  },
  {
   "cell_type": "code",
   "execution_count": 2,
   "metadata": {
    "ExecuteTime": {
     "end_time": "2019-03-15T22:56:58.937465Z",
     "start_time": "2019-03-15T22:56:58.933345Z"
    }
   },
   "outputs": [],
   "source": [
    "# Let Keras know that we are using tensorflow as our backend engine\n",
    "os.environ[\"KERAS_BACKEND\"] = \"tensorflow\"\n",
    "\n",
    "# Main Path\n",
    "main_path = os.path.abspath('..')\n",
    "\n",
    "# To make sure that we can reproduce the experiment and get the same results\n",
    "# np.random.seed(10)"
   ]
  },
  {
   "cell_type": "code",
   "execution_count": 3,
   "metadata": {
    "ExecuteTime": {
     "end_time": "2019-03-15T22:56:59.478804Z",
     "start_time": "2019-03-15T22:56:59.464023Z"
    }
   },
   "outputs": [],
   "source": [
    "def load_synthetic_time_series(data_path=None, n_samples=14000, seq_length=50,\n",
    "                               time_span=4, n_bands=1, n_signals=1, SNR_min=5,\n",
    "                               f0_interval='narrow',\n",
    "                               use_time=True, use_err=True):\n",
    "\n",
    "    if f0_interval == 'narrow':\n",
    "        f0_inter = [1/10., 1/1.]\n",
    "    elif f0_interval == 'wide':\n",
    "        f0_inter = [1/100., 1/0.01]\n",
    "    else:\n",
    "        print('Plese define frequency interval...')\n",
    "        return\n",
    "\n",
    "    if os.path.exists(data_path):\n",
    "        print('Loading from: ', data_path)\n",
    "        aux = np.load(data_path).item()\n",
    "        samples = aux['samples']\n",
    "        labels = np.array(aux['labels'])[:, None]\n",
    "        periods = aux['periods']\n",
    "        if n_bands == 1:\n",
    "            samples = samples.reshape(samples.shape[0], samples.shape[2],\n",
    "                                      samples.shape[3])\n",
    "        del aux\n",
    "        if use_time and not use_err:\n",
    "            samples = samples[:, :, 0:2]\n",
    "        if not use_time and not use_err:\n",
    "            samples = samples[:, :, 1:2]\n",
    "    return samples, labels, periods\n",
    "\n",
    "\n",
    "def load_real_time_series(data_path=None, survey='EROS2', n_bands=2,\n",
    "                          use_time=True, use_err=True):\n",
    "\n",
    "    if os.path.exists(data_path):\n",
    "        print('Loading from: ', data_path)\n",
    "        aux = joblib.load(data_path)\n",
    "        lcs = aux['lcs']\n",
    "        meta = aux['meta']\n",
    "        del aux\n",
    "        lcs = np.stack([x.values for x in lcs])\n",
    "        print(lcs.shape)\n",
    "        if n_bands == 1:\n",
    "            lcs = lcs[:, :, 0:3]\n",
    "        if use_time and not use_err:\n",
    "            lcs = lcs[:, :, 0:2]\n",
    "        if not use_time and not use_err:\n",
    "            lcs = lcs[:, :, 1:2]\n",
    "    return lcs, meta"
   ]
  },
  {
   "cell_type": "code",
   "execution_count": 27,
   "metadata": {
    "ExecuteTime": {
     "end_time": "2019-03-15T23:13:22.695699Z",
     "start_time": "2019-03-15T23:13:22.687436Z"
    }
   },
   "outputs": [],
   "source": [
    "# You will use the Adam optimizer\n",
    "def get_optimizer(learning_rate):\n",
    "    return Adam(lr=learning_rate)\n",
    "\n",
    "\n",
    "def get_generator(optimizer, n_units, latent_dim, out_lc_len, n_feat, \n",
    "                  dropout=0.1, m_type='LSTM',\n",
    "                  n_layers=1, bdir=True):\n",
    "    generator, param_str, param_dict = net_RNN_pb(latent_dim, n_feat, n_units,\n",
    "                                                  max_lenght=out_lc_len,\n",
    "                                                  num_layers=n_layers,\n",
    "                                                  drop_frac=dropout,\n",
    "                                                  model_type=m_type,\n",
    "                                                  bidirectional=bdir,\n",
    "                                                  return_sequences=False)\n",
    "\n",
    "    generator.compile(loss='binary_crossentropy', optimizer=optimizer)\n",
    "    generator.name = 'Generator'\n",
    "    return generator\n",
    "\n",
    "\n",
    "def get_discriminator(optimizer, n_units, lc_len, n_feat,\n",
    "                      dropout=0.1, m_type='LSTM',\n",
    "                      n_layers=1, bdir=True):\n",
    "    discriminator, param_str, param_dict = net_RNN_pb(n_feat, 1, n_units,\n",
    "                                                      max_lenght=lc_len,\n",
    "                                                      num_layers=n_layers,\n",
    "                                                      drop_frac=dropout,\n",
    "                                                      model_type=m_type,\n",
    "                                                      bidirectional=bdir,\n",
    "                                                      return_sequences=False)\n",
    "\n",
    "    discriminator.compile(loss='binary_crossentropy', optimizer=optimizer,\n",
    "                          metrics=['acc'])\n",
    "    discriminator.name = 'Discriminator'\n",
    "    return discriminator"
   ]
  },
  {
   "cell_type": "code",
   "execution_count": 33,
   "metadata": {
    "ExecuteTime": {
     "end_time": "2019-03-15T23:15:54.836028Z",
     "start_time": "2019-03-15T23:15:54.828387Z"
    }
   },
   "outputs": [],
   "source": [
    "def get_gan_network(discriminator, latent_dim, out_lc_len, generator, optimizer):\n",
    "\n",
    "    # We initially set trainable to False since we only want\n",
    "    # to train either the generator or discriminator at a time\n",
    "    discriminator.trainable = False\n",
    "\n",
    "    # gan input (noise) will be 100-dimensional vectors\n",
    "    gan_input = Input(shape=(out_lc_len, latent_dim), name='gan_input')\n",
    "\n",
    "    # the output of the generator (an image)\n",
    "    x = generator(gan_input)\n",
    "\n",
    "    # get the output of the discriminator\n",
    "    # (probability if the image is real or not)\n",
    "    x = Reshape((50, 2))(x)\n",
    "    gan_output = discriminator(x)\n",
    "    gan = Model(inputs=gan_input, outputs=gan_output)\n",
    "    gan.compile(loss='binary_crossentropy', optimizer=optimizer)\n",
    "\n",
    "    return gan"
   ]
  },
  {
   "cell_type": "markdown",
   "metadata": {},
   "source": [
    "#  Extra functions"
   ]
  },
  {
   "cell_type": "code",
   "execution_count": 6,
   "metadata": {
    "ExecuteTime": {
     "end_time": "2019-03-15T22:57:01.413015Z",
     "start_time": "2019-03-15T22:57:01.398102Z"
    }
   },
   "outputs": [],
   "source": [
    "# Create a wall of generated time series\n",
    "def plot_generated_time_series(epoch, generated_lc, test_lc=None, examples=8,\n",
    "                               dim=(2, 4), figsize=(16, 4)):\n",
    "\n",
    "    fig, ax = plt.subplots(nrows=dim[0], ncols=dim[1], figsize=figsize)\n",
    "    for i in range(dim[0]):\n",
    "        for j in range(dim[1]):\n",
    "            if use_time and use_err:\n",
    "                if j == 0 and test_lc is not None:\n",
    "                    ax[i,j].errorbar(test_lc[i, :, 0], test_lc[i, :, 1],\n",
    "                                     yerr=test_lc[i, :, 2], fmt='k.')\n",
    "                else:\n",
    "                    ax[i,j].errorbar(generated_lc[(j+i) + j, :, 0], generated_lc[(j+i) + j, :, 1],\n",
    "                                     yerr=generated_lc[(j+i) + j, :, 2], fmt='b.')\n",
    "            elif use_time and not use_err:\n",
    "                if j == 0 and test_lc is not None:\n",
    "                    ax[i,j].plot(test_lc[i, :, 0], test_lc[i, :, 1], 'k.')\n",
    "                else:\n",
    "                    ax[i,j].plot(generated_lc[(j+i) + j, :, 0], generated_lc[(j+i) + j, :, 1], 'b.')\n",
    "            elif not use_time and not use_err:\n",
    "                if j == 0 and test_lc is not None:\n",
    "                    ax[i,j].plot(test_lc[i, :], 'k.')\n",
    "                else:\n",
    "                    ax[i,j].plot(generated_lc[(j+i) + j, :], 'b.')\n",
    "    plt.tight_layout()\n",
    "    # plt.savefig('gan_generated_image_epoch_%d.png' % epoch)\n",
    "    buf = io.BytesIO()\n",
    "    plt.savefig(buf, format='png')\n",
    "    buf.seek(0)\n",
    "    plt.show()\n",
    "    return buf"
   ]
  },
  {
   "cell_type": "code",
   "execution_count": 7,
   "metadata": {
    "ExecuteTime": {
     "end_time": "2019-03-15T22:57:01.870866Z",
     "start_time": "2019-03-15T22:57:01.863465Z"
    }
   },
   "outputs": [],
   "source": [
    "def write_log_scalar(callback, names, logs, step):\n",
    "    for name, value in zip(names, logs):\n",
    "        summary = tf.Summary()\n",
    "        summary_value = summary.value.add()\n",
    "        summary_value.simple_value = value\n",
    "        summary_value.tag = name\n",
    "        callback.writer.add_summary(summary, step)\n",
    "        callback.writer.flush()\n",
    "        \n",
    "def write_log_plot(callback, buf, step):\n",
    "    image = tf.image.decode_png(buf.getvalue(), channels=4)\n",
    "    image = tf.expand_dims(image, 0)\n",
    "    summary = tf.summary.image(\"Generated_Image\", image,\n",
    "                               max_outputs=1)\n",
    "    callback.writer.add_summary(tf.keras.backend.eval(summary), step)\n",
    "    callback.writer.flush()"
   ]
  },
  {
   "cell_type": "code",
   "execution_count": 8,
   "metadata": {
    "ExecuteTime": {
     "end_time": "2019-03-15T22:57:02.402483Z",
     "start_time": "2019-03-15T22:57:02.385125Z"
    }
   },
   "outputs": [],
   "source": [
    "def normalize(data, norm_time=False, scale_to=[0, 1], n_feat=2):\n",
    "    normed = np.zeros_like(data)\n",
    "    for i, lc in enumerate(data):\n",
    "        normed[i, :, n_feat-1] = (lc[:, n_feat-1] - np.min(lc[:, n_feat-1])) / \\\n",
    "            (np.max(lc[:, n_feat-1]) - np.min(lc[:, n_feat-1]))\n",
    "        if scale_to != [0, 1]:\n",
    "            normed[i, :, n_feat-1] = (normed[i, :, n_feat-1] * (scale_to[1] - scale_to[0])) + scale_to[0]\n",
    "        if norm_time:\n",
    "            normed[i, :, n_feat-2] = (lc[:, n_feat-2] - np.min(lc[:, n_feat-2])) / \\\n",
    "                (np.max(lc[:, n_feat-2]) - np.min(lc[:, n_feat-2]))\n",
    "            if scale_to != [0, 1]:\n",
    "                normed[i, :, n_feat-2] = (normed[i, :, n_feat-2] * (scale_to[1] - scale_to[0])) + scale_to[0]\n",
    "        else:\n",
    "            normed[i, :, n_feat-2] = lc[:, n_feat-2]\n",
    "    return normed\n",
    "\n",
    "\n",
    "def standarize(data, stand_time=False):\n",
    "    standar = np.zeros_like(data)\n",
    "    for i, lc in enumerate(data):\n",
    "        standar[i, :, 1] = (lc[:, 1] - np.mean(lc[:, 1])) / np.std(lc[:, 1])\n",
    "        if stand_time:\n",
    "            standar[i, :, 0] = (lc[:, 0] - np.mean(lc[:, 0])) / np.std(lc[:, 0])\n",
    "        else:\n",
    "            standar[i, :, 0] = lc[:, 0]\n",
    "    return standar\n",
    "\n",
    "\n",
    "def get_noise(n_samples, n_timesteps=50, latent_dim=5, use_time=True):\n",
    "    latent = np.random.normal(loc=0, scale=.2,\n",
    "                              size=[n_samples, n_timesteps, latent_dim])\n",
    "    if use_time:\n",
    "        latent[:, :, 0] = sample_time(n=n_timesteps)\n",
    "    return latent\n",
    "\n",
    "\n",
    "def sample_time(n=50, t_range=[0, 4], irregular=True):\n",
    "    time = np.linspace(t_range[0], t_range[1], num=n*10)\n",
    "    time = np.random.choice(time, size=n, replace=False)\n",
    "    return np.sort(time)"
   ]
  },
  {
   "cell_type": "markdown",
   "metadata": {},
   "source": [
    "# Tsting area"
   ]
  },
  {
   "cell_type": "raw",
   "metadata": {
    "ExecuteTime": {
     "end_time": "2019-02-21T19:53:14.016250Z",
     "start_time": "2019-02-21T19:53:13.837007Z"
    },
    "scrolled": false
   },
   "source": [
    "test = standarize(samples[:2], stand_time=True)\n",
    "plt.plot(samples[0,:,0], samples[0,:,1], '.k')\n",
    "plt.plot(test[0,:,0], test[0,:,1], '.r')\n",
    "plt.show()"
   ]
  },
  {
   "cell_type": "raw",
   "metadata": {
    "ExecuteTime": {
     "end_time": "2019-02-05T20:00:12.256646Z",
     "start_time": "2019-02-05T20:00:11.911755Z"
    }
   },
   "source": [
    "test_d = Sequential()\n",
    "test_d.add(LSTM(10, input_shape=(50,3), return_sequences=True))\n",
    "test_d.add(Dense(1, activation='sigmoid'))\n",
    "test_d.add(AveragePooling1D(50))\n",
    "test_d.add(Reshape((1, )))\n",
    "test_d.compile(loss='mean_squared_error', optimizer='adam')\n",
    "print(test_d.summary())\n",
    "print('LSTM 1 output shape: ',test_d.predict(samples[0:10]).shape)"
   ]
  },
  {
   "cell_type": "raw",
   "metadata": {
    "ExecuteTime": {
     "end_time": "2019-02-05T20:00:12.640864Z",
     "start_time": "2019-02-05T20:00:12.386173Z"
    }
   },
   "source": [
    "test_g = Sequential()\n",
    "test_g.add(LSTM(5, input_shape=(100,3), return_sequences=True))\n",
    "test_g.add(TimeDistributed(Dense(3)))\n",
    "test_g.compile(loss='mean_squared_error', optimizer='adam')\n",
    "print(test_g.summary())\n",
    "print('LSTM 1 output shape: ',test_g.predict(test_noise).shape)"
   ]
  },
  {
   "cell_type": "raw",
   "metadata": {
    "ExecuteTime": {
     "end_time": "2019-02-05T23:39:11.836468Z",
     "start_time": "2019-02-05T23:39:11.210364Z"
    }
   },
   "source": [
    "print('Original lc: ', samples[0].mean(), samples[0].std())\n",
    "for k in range(1):\n",
    "    plt.plot(samples[k], '.')\n",
    "plt.show()\n",
    "\n",
    "# define model\n",
    "inputs1 = Input(shape=(50, 1))\n",
    "lstm1 = BatchNormalization(axis=-1)(inputs1)\n",
    "model = Model(inputs=inputs1, outputs=lstm1)\n",
    "norm = test_d.predict(samples[0])\n",
    "\n",
    "print('Batch Norm output shape: ', norm.mean(), norm.std())\n",
    "plt.plot(norm, '.')\n",
    "plt.show()"
   ]
  },
  {
   "cell_type": "markdown",
   "metadata": {},
   "source": [
    "# 3. Settings"
   ]
  },
  {
   "cell_type": "code",
   "execution_count": 21,
   "metadata": {
    "ExecuteTime": {
     "end_time": "2019-03-15T23:07:25.814251Z",
     "start_time": "2019-03-15T23:07:25.805291Z"
    }
   },
   "outputs": [],
   "source": [
    "# data\n",
    "n_samples = 28000\n",
    "n_obs = 50\n",
    "n_bands = 1\n",
    "use_time = True\n",
    "use_err = False\n",
    "n_feat = 3\n",
    "if (use_time and not use_err) or (not use_time and use_err):\n",
    "    n_feat = 2\n",
    "elif not use_time and not use_err:\n",
    "    n_feat = 1\n",
    "data_name = 'SynSine_time%s_err%s' % (str(use_time)[0], str(use_err)[0])\n",
    "# data_name = 'EROS2_trim215_augmented'\n",
    "\n",
    "# GAN architecture\n",
    "model_name = 'LSTM_GAN'\n",
    "learning_rate = 0.5 # [0.001, 0.005, 0.01, 0.05, 0.1, 0.2, 0.3, 0.4, 0.5, 0.6, 0.7, 0.8, 0.9, 1.]\n",
    "latent_dim = 20\n",
    "D_hidden_units = 4  # [2, 4, 8, 16, 32, 64, 128]\n",
    "G_hidden_units = 4\n",
    "D_output = 1\n",
    "G_dropout = 0.1\n",
    "D_dropout = 0.1\n",
    "batch_size = 7*8\n",
    "n_epochs = 200\n",
    "N_gen_feat = n_feat\n",
    "save_interval = 5\n",
    "viz_interval = 10\n",
    "batch_count = round(7000*.6 / batch_size)\n",
    "n_examples = 8\n",
    "gen_lc_len = n_obs"
   ]
  },
  {
   "cell_type": "markdown",
   "metadata": {},
   "source": [
    "# 2. Retrieve data"
   ]
  },
  {
   "cell_type": "raw",
   "metadata": {},
   "source": [
    "data_path = '%s/data/real/EROS2_meta+lcs_sample_lc_trim_augmented.pkl' % (main_path)\n",
    "samples, meta = load_real_time_series(data_path, use_time=use_time, use_err=use_err)\n",
    "\n",
    "samples = normalize(samples[:7000], norm_time=False, scale_to=[-1, 1], n_feat=n_feat)\n",
    "meta = meta[:7000]\n",
    "\n",
    "print('Samples shape: ', samples.shape)\n",
    "\n",
    "[x_train, x_test, \n",
    " y_train, y_test] = model_selection.train_test_split(samples, meta, \n",
    "                                                     train_size=0.6)"
   ]
  },
  {
   "cell_type": "code",
   "execution_count": 34,
   "metadata": {
    "ExecuteTime": {
     "end_time": "2019-03-15T23:15:58.613645Z",
     "start_time": "2019-03-15T23:15:57.940494Z"
    }
   },
   "outputs": [
    {
     "name": "stdout",
     "output_type": "stream",
     "text": [
      "Loading from:  /Users/jorgetil/Astro/TL-GANs/data/synthetic/sine_nsamples28000_seqlength50_nbands1_nsig1_timespan4_SNR40_f0narrow.npy\n",
      "Samples shape:  (7000, 50, 2)\n"
     ]
    },
    {
     "name": "stderr",
     "output_type": "stream",
     "text": [
      "/Users/jorgetil/miniconda3/envs/keras/lib/python3.6/site-packages/sklearn/model_selection/_split.py:2179: FutureWarning: From version 0.21, test_size will always complement train_size unless both are specified.\n",
      "  FutureWarning)\n"
     ]
    }
   ],
   "source": [
    "data_path = ('%s/data/synthetic/sine_nsamples%i_seqlength%i_nbands%i_nsig%i_timespan%i_SNR%i_f0%s.npy'\n",
    "             % (main_path, n_samples, n_obs, n_bands, 1, 4, 40, 'narrow'))\n",
    "samples, labels, periods = load_synthetic_time_series(data_path, use_time=use_time, use_err=use_err)\n",
    "\n",
    "samples = normalize(samples[:7000], norm_time=True, scale_to=[-1, 1], n_feat=n_feat)\n",
    "labels = labels[:7000]\n",
    "periods = periods[:7000]\n",
    "\n",
    "print('Samples shape: ', samples.shape)\n",
    "\n",
    "[x_train, x_test, \n",
    " y_train, y_test] = model_selection.train_test_split(samples, labels, \n",
    "                                                     train_size=0.6)"
   ]
  },
  {
   "cell_type": "code",
   "execution_count": 35,
   "metadata": {
    "ExecuteTime": {
     "end_time": "2019-03-15T23:16:00.142695Z",
     "start_time": "2019-03-15T23:15:59.971684Z"
    }
   },
   "outputs": [
    {
     "name": "stdout",
     "output_type": "stream",
     "text": [
      "(1, 50, 20)\n"
     ]
    },
    {
     "data": {
      "image/png": "[encoded data removed]",
      "text/plain": [
       "<Figure size 432x288 with 1 Axes>"
      ]
     },
     "metadata": {
      "needs_background": "light"
     },
     "output_type": "display_data"
    }
   ],
   "source": [
    "test = get_noise(1, latent_dim=latent_dim, use_time=False)\n",
    "print(test.shape)\n",
    "plt.plot(test[0,:,0], test[0,:,2], '.k')\n",
    "plt.show()"
   ]
  },
  {
   "cell_type": "code",
   "execution_count": 38,
   "metadata": {
    "ExecuteTime": {
     "end_time": "2019-03-15T23:19:00.514609Z",
     "start_time": "2019-03-15T23:18:00.171040Z"
    },
    "scrolled": false
   },
   "outputs": [
    {
     "name": "stdout",
     "output_type": "stream",
     "text": [
      "########## Learning Rate: 0.0050 ##########\n",
      "##########     N Unites: 16    ##########\n",
      ">>>> param_str =  LSTM_pb1_n128_x1_drop10_out100\n",
      ">>>> param_str =  LSTM_pb1_n16_x1_drop10_out1\n",
      "generator\n",
      "_________________________________________________________________\n",
      "Layer (type)                 Output Shape              Param #   \n",
      "=================================================================\n",
      "main_input_pb0 (InputLayer)  (None, 50, 20)            0         \n",
      "_________________________________________________________________\n",
      "encode_0_pb0 (LSTM)          (None, 128)               76288     \n",
      "_________________________________________________________________\n",
      "drop_encode_pb0_x0 (Dropout) (None, 128)               0         \n",
      "_________________________________________________________________\n",
      "relu_dense (Dense)           (None, 16)                2064      \n",
      "_________________________________________________________________\n",
      "softmax_dense (Dense)        (None, 100)               1700      \n",
      "=================================================================\n",
      "Total params: 80,052\n",
      "Trainable params: 80,052\n",
      "Non-trainable params: 0\n",
      "_________________________________________________________________\n",
      "None\n",
      "discriminator\n",
      "_________________________________________________________________\n",
      "Layer (type)                 Output Shape              Param #   \n",
      "=================================================================\n",
      "main_input_pb0 (InputLayer)  (None, 50, 2)             0         \n",
      "_________________________________________________________________\n",
      "encode_0_pb0 (LSTM)          (None, 16)                1216      \n",
      "_________________________________________________________________\n",
      "drop_encode_pb0_x0 (Dropout) (None, 16)                0         \n",
      "_________________________________________________________________\n",
      "relu_dense (Dense)           (None, 16)                272       \n",
      "_________________________________________________________________\n",
      "softmax_dense (Dense)        (None, 1)                 17        \n",
      "=================================================================\n",
      "Total params: 1,505\n",
      "Trainable params: 1,505\n",
      "Non-trainable params: 0\n",
      "_________________________________________________________________\n",
      "None\n",
      "GAN\n",
      "_________________________________________________________________\n",
      "Layer (type)                 Output Shape              Param #   \n",
      "=================================================================\n",
      "gan_input (InputLayer)       (None, 50, 20)            0         \n",
      "_________________________________________________________________\n",
      "Generator (Model)            (None, 100)               80052     \n",
      "_________________________________________________________________\n",
      "reshape_5 (Reshape)          (None, 50, 2)             0         \n",
      "_________________________________________________________________\n",
      "Discriminator (Model)        (None, 1)                 1505      \n",
      "=================================================================\n",
      "Total params: 81,557\n",
      "Trainable params: 80,052\n",
      "Non-trainable params: 1,505\n",
      "_________________________________________________________________\n",
      "None\n",
      "--------------- Epoch 1 ---------------\n"
     ]
    },
    {
     "data": {
      "application/vnd.jupyter.widget-view+json": {
       "model_id": "d0ac22bf2cdf43988d12ac617a73107c",
       "version_major": 2,
       "version_minor": 0
      },
      "text/plain": [
       "HBox(children=(IntProgress(value=0, description='# batch', max=75, style=ProgressStyle(description_width='init…"
      ]
     },
     "metadata": {},
     "output_type": "display_data"
    },
    {
     "name": "stdout",
     "output_type": "stream",
     "text": [
      "1 [D loss: 8.002481, acc: 0%] [G loss: 0.000000]\n"
     ]
    },
    {
     "data": {
      "image/png": "[encoded data removed]",
      "text/plain": [
       "<Figure size 1152x288 with 8 Axes>"
      ]
     },
     "metadata": {
      "needs_background": "light"
     },
     "output_type": "display_data"
    },
    {
     "name": "stdout",
     "output_type": "stream",
     "text": [
      "--------------- Epoch 2 ---------------\n"
     ]
    },
    {
     "data": {
      "application/vnd.jupyter.widget-view+json": {
       "model_id": "1e4d9d4fe6ef461b9584463df17fcd3b",
       "version_major": 2,
       "version_minor": 0
      },
      "text/plain": [
       "HBox(children=(IntProgress(value=0, description='# batch', max=75, style=ProgressStyle(description_width='init…"
      ]
     },
     "metadata": {},
     "output_type": "display_data"
    },
    {
     "name": "stdout",
     "output_type": "stream",
     "text": [
      "2 [D loss: 8.027369, acc: 0%] [G loss: 0.000000]\n",
      "--------------- Epoch 3 ---------------\n"
     ]
    },
    {
     "data": {
      "application/vnd.jupyter.widget-view+json": {
       "model_id": "9f464c8d01794115b8c03cfb96341aa7",
       "version_major": 2,
       "version_minor": 0
      },
      "text/plain": [
       "HBox(children=(IntProgress(value=0, description='# batch', max=75, style=ProgressStyle(description_width='init…"
      ]
     },
     "metadata": {},
     "output_type": "display_data"
    },
    {
     "name": "stdout",
     "output_type": "stream",
     "text": [
      "3 [D loss: 7.959055, acc: 0%] [G loss: 0.000000]\n",
      "--------------- Epoch 4 ---------------\n"
     ]
    },
    {
     "data": {
      "application/vnd.jupyter.widget-view+json": {
       "model_id": "7a24e5ab1c594ab1ab5e676bc2a9cf89",
       "version_major": 2,
       "version_minor": 0
      },
      "text/plain": [
       "HBox(children=(IntProgress(value=0, description='# batch', max=75, style=ProgressStyle(description_width='init…"
      ]
     },
     "metadata": {},
     "output_type": "display_data"
    },
    {
     "ename": "KeyboardInterrupt",
     "evalue": "",
     "output_type": "error",
     "traceback": [
      "\u001b[0;31m---------------------------------------------------------------------------\u001b[0m",
      "\u001b[0;31mKeyboardInterrupt\u001b[0m                         Traceback (most recent call last)",
      "\u001b[0;32m<ipython-input-38-203b9416727b>\u001b[0m in \u001b[0;36m<module>\u001b[0;34m\u001b[0m\n\u001b[1;32m     59\u001b[0m             \u001b[0my_dis\u001b[0m \u001b[0;34m=\u001b[0m \u001b[0mnp\u001b[0m\u001b[0;34m.\u001b[0m\u001b[0mconcatenate\u001b[0m\u001b[0;34m(\u001b[0m\u001b[0;34m[\u001b[0m\u001b[0mreal_lc_y\u001b[0m\u001b[0;34m,\u001b[0m \u001b[0mgen_lc_y\u001b[0m\u001b[0;34m]\u001b[0m\u001b[0;34m)\u001b[0m\u001b[0;34m\u001b[0m\u001b[0;34m\u001b[0m\u001b[0m\n\u001b[1;32m     60\u001b[0m             \u001b[0mdiscriminator\u001b[0m\u001b[0;34m.\u001b[0m\u001b[0mtrainable\u001b[0m \u001b[0;34m=\u001b[0m \u001b[0;32mTrue\u001b[0m\u001b[0;34m\u001b[0m\u001b[0;34m\u001b[0m\u001b[0m\n\u001b[0;32m---> 61\u001b[0;31m             \u001b[0md_loss\u001b[0m\u001b[0;34m,\u001b[0m \u001b[0md_acc\u001b[0m \u001b[0;34m=\u001b[0m \u001b[0mdiscriminator\u001b[0m\u001b[0;34m.\u001b[0m\u001b[0mtrain_on_batch\u001b[0m\u001b[0;34m(\u001b[0m\u001b[0mX\u001b[0m\u001b[0;34m,\u001b[0m \u001b[0my_dis\u001b[0m\u001b[0;34m)\u001b[0m\u001b[0;34m\u001b[0m\u001b[0;34m\u001b[0m\u001b[0m\n\u001b[0m\u001b[1;32m     62\u001b[0m \u001b[0;34m\u001b[0m\u001b[0m\n\u001b[1;32m     63\u001b[0m             \u001b[0;31m# Train generator\u001b[0m\u001b[0;34m\u001b[0m\u001b[0;34m\u001b[0m\u001b[0;34m\u001b[0m\u001b[0m\n",
      "\u001b[0;32m~/miniconda3/envs/keras/lib/python3.6/site-packages/keras/engine/training.py\u001b[0m in \u001b[0;36mtrain_on_batch\u001b[0;34m(self, x, y, sample_weight, class_weight)\u001b[0m\n\u001b[1;32m   1215\u001b[0m             \u001b[0mins\u001b[0m \u001b[0;34m=\u001b[0m \u001b[0mx\u001b[0m \u001b[0;34m+\u001b[0m \u001b[0my\u001b[0m \u001b[0;34m+\u001b[0m \u001b[0msample_weights\u001b[0m\u001b[0;34m\u001b[0m\u001b[0;34m\u001b[0m\u001b[0m\n\u001b[1;32m   1216\u001b[0m         \u001b[0mself\u001b[0m\u001b[0;34m.\u001b[0m\u001b[0m_make_train_function\u001b[0m\u001b[0;34m(\u001b[0m\u001b[0;34m)\u001b[0m\u001b[0;34m\u001b[0m\u001b[0;34m\u001b[0m\u001b[0m\n\u001b[0;32m-> 1217\u001b[0;31m         \u001b[0moutputs\u001b[0m \u001b[0;34m=\u001b[0m \u001b[0mself\u001b[0m\u001b[0;34m.\u001b[0m\u001b[0mtrain_function\u001b[0m\u001b[0;34m(\u001b[0m\u001b[0mins\u001b[0m\u001b[0;34m)\u001b[0m\u001b[0;34m\u001b[0m\u001b[0;34m\u001b[0m\u001b[0m\n\u001b[0m\u001b[1;32m   1218\u001b[0m         \u001b[0;32mreturn\u001b[0m \u001b[0munpack_singleton\u001b[0m\u001b[0;34m(\u001b[0m\u001b[0moutputs\u001b[0m\u001b[0;34m)\u001b[0m\u001b[0;34m\u001b[0m\u001b[0;34m\u001b[0m\u001b[0m\n\u001b[1;32m   1219\u001b[0m \u001b[0;34m\u001b[0m\u001b[0m\n",
      "\u001b[0;32m~/miniconda3/envs/keras/lib/python3.6/site-packages/keras/backend/tensorflow_backend.py\u001b[0m in \u001b[0;36m__call__\u001b[0;34m(self, inputs)\u001b[0m\n\u001b[1;32m   2713\u001b[0m                 \u001b[0;32mreturn\u001b[0m \u001b[0mself\u001b[0m\u001b[0;34m.\u001b[0m\u001b[0m_legacy_call\u001b[0m\u001b[0;34m(\u001b[0m\u001b[0minputs\u001b[0m\u001b[0;34m)\u001b[0m\u001b[0;34m\u001b[0m\u001b[0;34m\u001b[0m\u001b[0m\n\u001b[1;32m   2714\u001b[0m \u001b[0;34m\u001b[0m\u001b[0m\n\u001b[0;32m-> 2715\u001b[0;31m             \u001b[0;32mreturn\u001b[0m \u001b[0mself\u001b[0m\u001b[0;34m.\u001b[0m\u001b[0m_call\u001b[0m\u001b[0;34m(\u001b[0m\u001b[0minputs\u001b[0m\u001b[0;34m)\u001b[0m\u001b[0;34m\u001b[0m\u001b[0;34m\u001b[0m\u001b[0m\n\u001b[0m\u001b[1;32m   2716\u001b[0m         \u001b[0;32melse\u001b[0m\u001b[0;34m:\u001b[0m\u001b[0;34m\u001b[0m\u001b[0;34m\u001b[0m\u001b[0m\n\u001b[1;32m   2717\u001b[0m             \u001b[0;32mif\u001b[0m \u001b[0mpy_any\u001b[0m\u001b[0;34m(\u001b[0m\u001b[0mis_tensor\u001b[0m\u001b[0;34m(\u001b[0m\u001b[0mx\u001b[0m\u001b[0;34m)\u001b[0m \u001b[0;32mfor\u001b[0m \u001b[0mx\u001b[0m \u001b[0;32min\u001b[0m \u001b[0minputs\u001b[0m\u001b[0;34m)\u001b[0m\u001b[0;34m:\u001b[0m\u001b[0;34m\u001b[0m\u001b[0;34m\u001b[0m\u001b[0m\n",
      "\u001b[0;32m~/miniconda3/envs/keras/lib/python3.6/site-packages/keras/backend/tensorflow_backend.py\u001b[0m in \u001b[0;36m_call\u001b[0;34m(self, inputs)\u001b[0m\n\u001b[1;32m   2673\u001b[0m             \u001b[0mfetched\u001b[0m \u001b[0;34m=\u001b[0m \u001b[0mself\u001b[0m\u001b[0;34m.\u001b[0m\u001b[0m_callable_fn\u001b[0m\u001b[0;34m(\u001b[0m\u001b[0;34m*\u001b[0m\u001b[0marray_vals\u001b[0m\u001b[0;34m,\u001b[0m \u001b[0mrun_metadata\u001b[0m\u001b[0;34m=\u001b[0m\u001b[0mself\u001b[0m\u001b[0;34m.\u001b[0m\u001b[0mrun_metadata\u001b[0m\u001b[0;34m)\u001b[0m\u001b[0;34m\u001b[0m\u001b[0;34m\u001b[0m\u001b[0m\n\u001b[1;32m   2674\u001b[0m         \u001b[0;32melse\u001b[0m\u001b[0;34m:\u001b[0m\u001b[0;34m\u001b[0m\u001b[0;34m\u001b[0m\u001b[0m\n\u001b[0;32m-> 2675\u001b[0;31m             \u001b[0mfetched\u001b[0m \u001b[0;34m=\u001b[0m \u001b[0mself\u001b[0m\u001b[0;34m.\u001b[0m\u001b[0m_callable_fn\u001b[0m\u001b[0;34m(\u001b[0m\u001b[0;34m*\u001b[0m\u001b[0marray_vals\u001b[0m\u001b[0;34m)\u001b[0m\u001b[0;34m\u001b[0m\u001b[0;34m\u001b[0m\u001b[0m\n\u001b[0m\u001b[1;32m   2676\u001b[0m         \u001b[0;32mreturn\u001b[0m \u001b[0mfetched\u001b[0m\u001b[0;34m[\u001b[0m\u001b[0;34m:\u001b[0m\u001b[0mlen\u001b[0m\u001b[0;34m(\u001b[0m\u001b[0mself\u001b[0m\u001b[0;34m.\u001b[0m\u001b[0moutputs\u001b[0m\u001b[0;34m)\u001b[0m\u001b[0;34m]\u001b[0m\u001b[0;34m\u001b[0m\u001b[0;34m\u001b[0m\u001b[0m\n\u001b[1;32m   2677\u001b[0m \u001b[0;34m\u001b[0m\u001b[0m\n",
      "\u001b[0;32m~/miniconda3/envs/keras/lib/python3.6/site-packages/tensorflow/python/client/session.py\u001b[0m in \u001b[0;36m__call__\u001b[0;34m(self, *args, **kwargs)\u001b[0m\n\u001b[1;32m   1437\u001b[0m           ret = tf_session.TF_SessionRunCallable(\n\u001b[1;32m   1438\u001b[0m               \u001b[0mself\u001b[0m\u001b[0;34m.\u001b[0m\u001b[0m_session\u001b[0m\u001b[0;34m.\u001b[0m\u001b[0m_session\u001b[0m\u001b[0;34m,\u001b[0m \u001b[0mself\u001b[0m\u001b[0;34m.\u001b[0m\u001b[0m_handle\u001b[0m\u001b[0;34m,\u001b[0m \u001b[0margs\u001b[0m\u001b[0;34m,\u001b[0m \u001b[0mstatus\u001b[0m\u001b[0;34m,\u001b[0m\u001b[0;34m\u001b[0m\u001b[0;34m\u001b[0m\u001b[0m\n\u001b[0;32m-> 1439\u001b[0;31m               run_metadata_ptr)\n\u001b[0m\u001b[1;32m   1440\u001b[0m         \u001b[0;32mif\u001b[0m \u001b[0mrun_metadata\u001b[0m\u001b[0;34m:\u001b[0m\u001b[0;34m\u001b[0m\u001b[0;34m\u001b[0m\u001b[0m\n\u001b[1;32m   1441\u001b[0m           \u001b[0mproto_data\u001b[0m \u001b[0;34m=\u001b[0m \u001b[0mtf_session\u001b[0m\u001b[0;34m.\u001b[0m\u001b[0mTF_GetBuffer\u001b[0m\u001b[0;34m(\u001b[0m\u001b[0mrun_metadata_ptr\u001b[0m\u001b[0;34m)\u001b[0m\u001b[0;34m\u001b[0m\u001b[0;34m\u001b[0m\u001b[0m\n",
      "\u001b[0;31mKeyboardInterrupt\u001b[0m: "
     ]
    }
   ],
   "source": [
    "#for l_rate in [.00001, .00002, .00005, .0001, .0002, .0005]:\n",
    "if True:\n",
    "    n_units = 16\n",
    "    l_rate = .005\n",
    "    print('########## Learning Rate: %.4f ##########' % (l_rate))\n",
    "    print('##########     N Unites: %i    ##########' % (n_units))\n",
    "    # Build our GAN netowrk\n",
    "    adam = get_optimizer(l_rate)\n",
    "    generator = get_generator(adam, n_units, latent_dim, n_obs, n_feat, \n",
    "                              m_type='LSTM', bdir=False, n_layers=1,\n",
    "                              dropout=G_dropout)\n",
    "    discriminator = get_discriminator(adam, n_units, n_obs, n_feat, \n",
    "                                      m_type='LSTM', bdir=False, n_layers=1,\n",
    "                                      dropout=D_dropout)\n",
    "    \n",
    "    print('generator')\n",
    "    print(generator.summary())\n",
    "    print('discriminator')\n",
    "    print(discriminator.summary())\n",
    "    gan = get_gan_network(discriminator, latent_dim, gen_lc_len, generator, adam)\n",
    "    print('GAN')\n",
    "    print(gan.summary())\n",
    "\n",
    "    test_noise = get_noise(n_examples, latent_dim=latent_dim, use_time=False)\n",
    "\n",
    "    # logger = TensorBoard(log_dir='%s/logs/%s_%s/run_%s/' % \n",
    "    #                      (main_path, model_name, data_name,\n",
    "    #                       datetime.datetime.now().strftime(\"%y%m%d_%I%M\")),\n",
    "    #                      histogram_freq=0, write_graph=False, write_images=True)\n",
    "    # logger.set_model(gan)\n",
    "    loss_G, loss_D = [], []\n",
    "\n",
    "    for e in range(1, n_epochs+1):\n",
    "        print('-'*15, 'Epoch %d' % e, '-'*15)\n",
    "        for n_batch in tnrange(batch_count, desc='# batch'):\n",
    "\n",
    "            # Get a random set of input noise and real LC's\n",
    "            real_lc = x_train[np.random.randint(0, x_train.shape[0], size=batch_size)]\n",
    "            # real_lc = x_train[n_batch*batch_size: (n_batch+1)*batch_size]\n",
    "            real_lc_y = np.random.uniform(.9, 1., size=batch_size)\n",
    "            # real_lc_y = np.ones(bcatch_size) # * .9\n",
    "\n",
    "            # Generate fake LC's\n",
    "            noise = get_noise(batch_size, latent_dim=latent_dim, use_time=False)\n",
    "            gen_lc = generator.predict(noise)\n",
    "            gen_lc_y = np.random.uniform(0., .1, size=batch_size)\n",
    "            # gen_lc_y = np.ones(batch_size) * 0.\n",
    "\n",
    "            # Train discriminator on real\n",
    "            # discriminator.trainable = True\n",
    "            # d_loss_real, d_acc_real = discriminator.train_on_batch(real_lc, real_lc_y)\n",
    "            # Train discriminator on generated\n",
    "            # d_loss_gen, d_acc_gen = discriminator.train_on_batch(gen_lc, gen_lc_y)\n",
    "            # d_loss = d_loss_real + d_loss_gen\n",
    "            # d_acc = (d_acc_real + d_acc_gen)/2\n",
    "            \n",
    "            X = np.concatenate([real_lc, gen_lc])\n",
    "            y_dis = np.concatenate([real_lc_y, gen_lc_y])\n",
    "            discriminator.trainable = True\n",
    "            d_loss, d_acc = discriminator.train_on_batch(X, y_dis)\n",
    "\n",
    "            # Train generator\n",
    "            noise = get_noise(batch_size, latent_dim=latent_dim, use_time=False)\n",
    "            # y_gen = np.random.uniform(0.8, 1., size=batch_size)\n",
    "            y_gen = np.ones(batch_size) # * .9\n",
    "            discriminator.trainable = False\n",
    "            g_loss = gan.train_on_batch(noise, y_gen)\n",
    "            \n",
    "            loss_G.append([(e-1) * batch_count + n_batch ,g_loss])\n",
    "            loss_D.append([(e-1) * batch_count + n_batch ,d_loss])\n",
    "\n",
    "            # if n_batch % 10 == 0:\n",
    "            #     write_log_scalar(logger, ['G_loss', 'D_loss', 'D_acc'],\n",
    "            #                      [g_loss, d_loss, d_acc],\n",
    "            #                      (e-1) * batch_count + n_batch)\n",
    "\n",
    "        print(\"%d [D loss: %f, acc: %.0f%%] [G loss: %f]\" %\n",
    "              (e, d_loss, d_acc*100, g_loss))\n",
    "        if d_loss == 0:\n",
    "            print('Failiure mode...')\n",
    "            break\n",
    "\n",
    "        if e == 1 or e % viz_interval == 0:\n",
    "            lc_test = generator.predict(get_noise(n_examples, latent_dim=latent_dim,\n",
    "                                                  use_time=False))\n",
    "            img_buf = plot_generated_time_series(e, lc_test,\n",
    "                                                 test_lc=x_test[np.random.randint(0,len(x_test),8)])\n",
    "\n",
    "            # generator.save('%s/experiments/params/%s_%s_G_%i.hdf5' %\n",
    "            #               (main_path, model_name, data_name, e))\n",
    "            # discriminator.save('%s/experiments/params/%s_%s_D_%i.hdf5' %\n",
    "            #                   (main_path, model_name, data_name, e))\n",
    "\n",
    "            # write_log_plot(logger, img_buf, (e-1) * batch_count + n_batch)\n",
    "    \n",
    "    loss_G = np.array(loss_G)\n",
    "    loss_D = np.array(loss_D)\n",
    "    plt.plot(loss_G[:,0], loss_G[:,1], '-b', label='G', linewidth=1)\n",
    "    plt.plot(loss_D[:,0], loss_D[:,1], '-r', label='D', linewidth=1)\n",
    "    plt.xlabel('batch iter')\n",
    "    plt.ylabel('Loss')\n",
    "    plt.legend(loc='best')\n",
    "    plt.show()\n"
   ]
  },
  {
   "cell_type": "code",
   "execution_count": null,
   "metadata": {},
   "outputs": [],
   "source": []
  }
 ],
 "metadata": {
  "kernelspec": {
   "display_name": "Python [conda env:keras]",
   "language": "python",
   "name": "conda-env-keras-py"
  },
  "language_info": {
   "codemirror_mode": {
    "name": "ipython",
    "version": 3
   },
   "file_extension": ".py",
   "mimetype": "text/x-python",
   "name": "python",
   "nbconvert_exporter": "python",
   "pygments_lexer": "ipython3",
   "version": "3.6.8"
  },
  "varInspector": {
   "cols": {
    "lenName": 16,
    "lenType": 16,
    "lenVar": 40
   },
   "kernels_config": {
    "python": {
     "delete_cmd_postfix": "",
     "delete_cmd_prefix": "del ",
     "library": "var_list.py",
     "varRefreshCmd": "print(var_dic_list())"
    },
    "r": {
     "delete_cmd_postfix": ") ",
     "delete_cmd_prefix": "rm(",
     "library": "var_list.r",
     "varRefreshCmd": "cat(var_dic_list()) "
    }
   },
   "position": {
    "height": "581px",
    "left": "892px",
    "right": "20px",
    "top": "120px",
    "width": "368px"
   },
   "types_to_exclude": [
    "module",
    "function",
    "builtin_function_or_method",
    "instance",
    "_Feature"
   ],
   "window_display": false
  }
 },
 "nbformat": 4,
 "nbformat_minor": 2
}
