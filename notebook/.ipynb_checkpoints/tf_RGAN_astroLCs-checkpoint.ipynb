{
 "cells": [
  {
   "cell_type": "code",
   "execution_count": 1,
   "metadata": {
    "ExecuteTime": {
     "end_time": "2019-03-23T01:11:26.192221Z",
     "start_time": "2019-03-23T01:11:22.328741Z"
    }
   },
   "outputs": [],
   "source": [
    "import io\n",
    "import os\n",
    "import re\n",
    "import sys\n",
    "import time, datetime\n",
    "import joblib\n",
    "import numpy as np\n",
    "import pandas as pd\n",
    "import matplotlib.pyplot as plt\n",
    "from tqdm import tnrange\n",
    "from IPython import display\n",
    "from sklearn import model_selection, preprocessing\n",
    "\n",
    "sys.path.append('%s/lib' % (os.path.abspath('..')))\n",
    "from SyntheticLCGenerator import synthetic_light_curve_generator\n",
    "from mmd import rbf_mmd2, median_pairwise_distance, mix_rbf_mmd2_and_ratio\n",
    "#from Logger import Logger\n",
    "\n",
    "import tensorflow as tf"
   ]
  },
  {
   "cell_type": "code",
   "execution_count": 2,
   "metadata": {
    "ExecuteTime": {
     "end_time": "2019-03-23T01:11:26.203845Z",
     "start_time": "2019-03-23T01:11:26.195620Z"
    }
   },
   "outputs": [
    {
     "data": {
      "text/plain": [
       "'/Users/jorgetil/Astro/TL-GANs'"
      ]
     },
     "execution_count": 2,
     "metadata": {},
     "output_type": "execute_result"
    }
   ],
   "source": [
    "main_path = os.path.abspath('..')\n",
    "main_path"
   ]
  },
  {
   "cell_type": "markdown",
   "metadata": {},
   "source": [
    "# 2. GAN Model"
   ]
  },
  {
   "cell_type": "markdown",
   "metadata": {},
   "source": [
    "### latent space functions"
   ]
  },
  {
   "cell_type": "code",
   "execution_count": 3,
   "metadata": {
    "ExecuteTime": {
     "end_time": "2019-03-23T01:11:26.228242Z",
     "start_time": "2019-03-23T01:11:26.206795Z"
    }
   },
   "outputs": [],
   "source": [
    "def sample_Z(batch_size, seq_length, latent_dim, \n",
    "             only_one=False, use_time=True, rnd_state=1):\n",
    "    if only_one:\n",
    "        sample = np.zeros((batch_size, seq_length, latent_dim))\n",
    "        for i in range(len(sample)):\n",
    "            sample[i,:,:] = np.random.normal(size=[latent_dim])\n",
    "    else:\n",
    "        sample = np.float32(np.random.normal(\n",
    "            size=[batch_size, seq_length, latent_dim]))\n",
    "        if use_time:\n",
    "            ## set the first dimension of every sequence as the\n",
    "            ## time using a sequence of \"seq_length\" between [0,1]\n",
    "            sample[:, :, 0] = np.linspace(0., 1.0, num=seq_length)\n",
    "    return sample\n",
    "\n",
    "\n",
    "def sample_C(batch_size, cond_dim=0, max_val=1, one_hot=False):\n",
    "    \"\"\"\n",
    "    return an array of integers (so far we only allow integer-valued\n",
    "    conditional values)\n",
    "    \"\"\"\n",
    "    if cond_dim == 0:\n",
    "        return None\n",
    "    else:\n",
    "        if one_hot:\n",
    "            assert max_val == 1\n",
    "            C = np.zeros(shape=(batch_size, cond_dim))\n",
    "            # locations\n",
    "            labels = np.random.choice(cond_dim, batch_size)\n",
    "            C[np.arange(batch_size), labels] = 1\n",
    "        else:\n",
    "            C = np.random.choice(max_val+1, size=(batch_size, cond_dim))\n",
    "        return C"
   ]
  },
  {
   "cell_type": "markdown",
   "metadata": {},
   "source": [
    "### training functions"
   ]
  },
  {
   "cell_type": "code",
   "execution_count": 74,
   "metadata": {
    "ExecuteTime": {
     "end_time": "2019-03-25T18:52:54.259261Z",
     "start_time": "2019-03-25T18:52:54.212386Z"
    }
   },
   "outputs": [],
   "source": [
    "def GAN_loss(Z, X, generator_settings, discriminator_settings,\n",
    "             cond, CG, CD, CS, wrong_labels=False, smooth_labels=False):\n",
    "    '''\n",
    "    GAN loss function\n",
    "    '''\n",
    "    if cond:\n",
    "        # C-GAN\n",
    "        G_sample = generator(Z, **generator_settings, c=CG)\n",
    "        D_real, D_logit_real = discriminator(X, **discriminator_settings,\n",
    "                                             c=CD)\n",
    "        D_fake, D_logit_fake = discriminator(G_sample, reuse=True,\n",
    "                                             **discriminator_settings, c=CG)\n",
    "\n",
    "        if wrong_labels:\n",
    "            # the discriminator must distinguish between real data\n",
    "            # with fake labels and real data with real labels, too\n",
    "            D_wrong, D_logit_wrong = discriminator(X, reuse=True,\n",
    "                                                   **discriminator_settings,\n",
    "                                                   c=CS)\n",
    "    else:\n",
    "        # normal GAN\n",
    "        G_sample = generator(Z, **generator_settings)\n",
    "        D_real, D_logit_real = discriminator(X, **discriminator_settings)\n",
    "        D_fake, D_logit_fake = discriminator(G_sample, reuse=True,\n",
    "                                             **discriminator_settings)\n",
    "\n",
    "    ## Discriminator loss\n",
    "    with tf.name_scope('Loss_D'):\n",
    "        # smooth labels during Discriminator training\n",
    "        if smooth_labels:\n",
    "            label_real = tf.random.uniform(D_logit_real, minval=.9, maxval=1)\n",
    "            label_fake = tf.random.uniform(D_logit_fake, minval=0., maxval=.1)\n",
    "        else:\n",
    "            label_real = tf.ones_like(D_logit_real)\n",
    "            label_fake = tf.zeros_like(D_logit_fake)\n",
    "        tf.summary.histogram('Ones', label_real)\n",
    "        tf.summary.histogram('Zeros', label_fake)\n",
    "\n",
    "        D_loss_real = tf.reduce_mean(tf.nn.sigmoid_cross_entropy_with_logits(\n",
    "            logits=D_logit_real, labels=label_real), 1)\n",
    "        D_loss_fake = tf.reduce_mean(tf.nn.sigmoid_cross_entropy_with_logits(\n",
    "            logits=D_logit_fake, labels=label_fake), 1)\n",
    "        D_loss = D_loss_real + D_loss_fake\n",
    "        if cond and wrong_labels:\n",
    "            D_loss = D_loss + D_loss_wrong\n",
    "        D_loss = tf.reduce_mean(D_loss)\n",
    "    \n",
    "    with tf.name_scope('Acc_D'):\n",
    "        ## Discriminator Acc\n",
    "        D_acc = tf.equal(tf.argmax(tf.stack([D_logit_real, D_logit_fake]), 1), \n",
    "                         tf.argmax(tf.stack([label_real, label_fake]), 1))\n",
    "        D_acc = tf.reduce_mean(tf.cast(D_acc, tf.float32))\n",
    "\n",
    "    with tf.name_scope('Loss_G'):\n",
    "        ## Generator loss\n",
    "        G_loss = tf.reduce_mean(tf.nn.sigmoid_cross_entropy_with_logits(\n",
    "            logits=D_logit_fake, labels=tf.ones_like(D_logit_fake)), 1)\n",
    "        G_loss = tf.reduce_mean(G_loss)\n",
    "\n",
    "    return D_loss, G_loss, D_acc\n",
    "\n",
    "\n",
    "def GAN_solvers(D_loss, G_loss, learning_rate):\n",
    "    \"\"\"\n",
    "    Optimizers\n",
    "    \"\"\"\n",
    "    discriminator_vars = [v for v in tf.trainable_variables()\n",
    "                          if v.name.startswith('discriminator')]\n",
    "    generator_vars = [v for v in tf.trainable_variables()\n",
    "                      if v.name.startswith('generator')]\n",
    "\n",
    "    with tf.name_scope('Adam_D'):\n",
    "        D_solver = tf.train.AdamOptimizer(learning_rate=learning_rate).minimize(\n",
    "            D_loss, var_list=discriminator_vars)\n",
    "\n",
    "    with tf.name_scope('Adam_G'):\n",
    "        G_solver = tf.train.AdamOptimizer(learning_rate=learning_rate).minimize(\n",
    "            G_loss, var_list=generator_vars)\n",
    "    \n",
    "    return D_solver, G_solver"
   ]
  },
  {
   "cell_type": "markdown",
   "metadata": {},
   "source": [
    "### model functions"
   ]
  },
  {
   "cell_type": "code",
   "execution_count": 75,
   "metadata": {
    "ExecuteTime": {
     "end_time": "2019-03-25T18:52:56.530018Z",
     "start_time": "2019-03-25T18:52:56.482593Z"
    }
   },
   "outputs": [],
   "source": [
    "def create_placeholders(batch_size, seq_length, latent_dim,\n",
    "                        n_feat, cond_dim):\n",
    "    Z = tf.placeholder(tf.float32, [batch_size, seq_length, \n",
    "                                    latent_dim],\n",
    "                       name='Z')\n",
    "    X = tf.placeholder(tf.float32, [batch_size, seq_length, \n",
    "                                    n_feat],\n",
    "                      name='X')\n",
    "    CG = tf.placeholder(tf.float32, [batch_size, cond_dim],\n",
    "                        name='CG')\n",
    "    CD = tf.placeholder(tf.float32, [batch_size, cond_dim],\n",
    "                        name='CD')\n",
    "    CS = tf.placeholder(tf.float32, [batch_size, cond_dim],\n",
    "                        name='CS')\n",
    "\n",
    "    return Z, X, CG, CD, CS\n",
    "\n",
    "\n",
    "def generator(z, hidden_units_g, seq_length, batch_size, n_feat,\n",
    "              num_layers=1, reuse=False, parameters=None,\n",
    "              cond_dim=0, c=None, dropout=0.):\n",
    "    \"\"\"\n",
    "    If parameters are supplied, initialise as such\n",
    "    \"\"\"\n",
    "    with tf.variable_scope(\"generator\", reuse=False) as scope:\n",
    "        if reuse:\n",
    "            scope.reuse_variables()\n",
    "        if parameters is None:\n",
    "            W_out_G_initializer = tf.truncated_normal_initializer()\n",
    "            b_out_G_initializer = tf.truncated_normal_initializer()\n",
    "            lstm_initializer = None\n",
    "            bias_start = 1.0\n",
    "        else:\n",
    "            W_out_G_initializer = tf.constant_initializer(\n",
    "                value=parameters['generator/W_out_G:0'])\n",
    "            b_out_G_initializer = tf.constant_initializer(\n",
    "                value=parameters['generator/b_out_G:0'])\n",
    "            lstm_initializer = tf.constant_initializer(\n",
    "                value=parameters['generator/rnn/lstm_cell/weights:0'])\n",
    "            bias_start = parameters['generator/rnn/lstm_cell/biases:0']\n",
    "        \n",
    "        W_out_G = tf.get_variable(name='W_out_G',\n",
    "                                  shape=[hidden_units_g,\n",
    "                                         n_feat],\n",
    "                                  initializer=W_out_G_initializer)\n",
    "        tf.summary.histogram('W_out_G', W_out_G)\n",
    "        b_out_G = tf.get_variable(name='b_out_G',\n",
    "                                  shape=n_feat,\n",
    "                                  initializer=b_out_G_initializer)\n",
    "        tf.summary.histogram('b_out_G', b_out_G)\n",
    "\n",
    "        if cond_dim > 0:\n",
    "            # CGAN!\n",
    "            assert not c is None\n",
    "            repeated_encoding = tf.stack([c]*seq_length, axis=1)\n",
    "            inputs = tf.concat([z, repeated_encoding], axis=2)\n",
    "        else:\n",
    "            inputs = z\n",
    "\n",
    "        fw_lstms = []\n",
    "        for kk in range(num_layers):\n",
    "            cell = tf.contrib.rnn.LSTMCell(num_units=hidden_units_g,\n",
    "                                           state_is_tuple=True,\n",
    "                                           initializer=lstm_initializer,\n",
    "                                           reuse=reuse,\n",
    "                                           name='LSTM_cell_%i' % (kk))\n",
    "            if dropout > 0.:\n",
    "                with tf.name_scope('drop_%i' % (kk)):\n",
    "                    cell = tf.contrib.rnn.DropoutWrapper(cell, \n",
    "                                                         output_keep_prob=1 - dropout)\n",
    "            fw_lstms.append(cell)\n",
    "        fw_lstms = tf.contrib.rnn.MultiRNNCell(fw_lstms)\n",
    "        rnn_outputs, rnn_states = tf.nn.dynamic_rnn(cell=fw_lstms,\n",
    "                                                    dtype=tf.float32,\n",
    "                                                    sequence_length=[\n",
    "                                                        seq_length]*batch_size,\n",
    "                                                    inputs=inputs)\n",
    "        tf.summary.histogram('multiRNN', rnn_outputs)\n",
    "        rnn_outputs_2d = tf.reshape(rnn_outputs, [-1, hidden_units_g], \n",
    "                                    name='2d_reshape')\n",
    "        with tf.name_scope('Dense'):\n",
    "            logits_2d = tf.matmul(rnn_outputs_2d, W_out_G) + b_out_G\n",
    "            tf.summary.histogram('pre_activation', logits_2d)\n",
    "        # logits_3d = tf.einsum('ijk,km', rnn_outputs, W_out_G) + b_out_G\n",
    "        # output_2d = tf.nn.tanh(logits_2d, name='tanh_out')\n",
    "        output_3d = tf.reshape(logits_2d,\n",
    "                               [-1, seq_length, n_feat], \n",
    "                               name='3d_reshape')\n",
    "    return output_3d\n",
    "\n",
    "\n",
    "def discriminator(x, hidden_units_d, seq_length, batch_size, \n",
    "                  num_layers=1, reuse=False, dropout=0.,\n",
    "                  cond_dim=0, c=None, batch_mean=False,\n",
    "                  batch_norm=True):\n",
    "    with tf.variable_scope(\"discriminator\") as scope:\n",
    "        if reuse:\n",
    "            scope.reuse_variables()\n",
    "        W_out_D = tf.get_variable(name='W_out_D', shape=[hidden_units_d, 1],\n",
    "                                  initializer=tf.truncated_normal_initializer())\n",
    "        tf.summary.histogram('W_out_D', W_out_D)\n",
    "        b_out_D = tf.get_variable(name='b_out_D', shape=1,\n",
    "                                  initializer=tf.truncated_normal_initializer())\n",
    "        tf.summary.histogram('b_out_D', b_out_D)\n",
    "\n",
    "        if cond_dim > 0:\n",
    "            assert not c is None\n",
    "            repeated_encoding = tf.stack([c]*seq_length, axis=1)\n",
    "            inputs = tf.concat([x, repeated_encoding], axis=2)\n",
    "        else:\n",
    "            inputs = x\n",
    "\n",
    "        if batch_norm:\n",
    "            inputs = tf.layers.batch_normalization(inputs, axis=1, \n",
    "                                                   renorm=True, \n",
    "                                                   name='batch_norm')\n",
    "        fw_lstms = []\n",
    "        for kk in range(num_layers):\n",
    "            cell = tf.contrib.rnn.LSTMCell(num_units=hidden_units_d,\n",
    "                                           state_is_tuple=True,\n",
    "                                           reuse=reuse,\n",
    "                                           name='LSTM_cell_%i' % (kk))\n",
    "            if dropout > 0.:\n",
    "                with tf.name_scope('drop_%i' % (kk)):\n",
    "                    cell = tf.contrib.rnn.DropoutWrapper(cell, \n",
    "                                                         output_keep_prob=1 - dropout)\n",
    "            fw_lstms.append(cell)\n",
    "        fw_lstms = tf.contrib.rnn.MultiRNNCell(fw_lstms)\n",
    "        rnn_outputs, rnn_states = tf.nn.dynamic_rnn(cell=fw_lstms,\n",
    "                                                    dtype=tf.float32,\n",
    "                                                    inputs=inputs)\n",
    "        tf.summary.histogram('multiRNN', rnn_outputs)\n",
    "        with tf.name_scope('Dense'):\n",
    "            logits = tf.einsum('ijk,km', rnn_outputs, W_out_D) + b_out_D\n",
    "            tf.summary.histogram('pre_activations', logits)\n",
    "        output = tf.nn.sigmoid(logits, name='sigmoid_out')\n",
    "        tf.summary.histogram('exit', output)\n",
    "\n",
    "    return output, logits"
   ]
  },
  {
   "cell_type": "markdown",
   "metadata": {},
   "source": [
    "### extra functions (plot, save, etc...)"
   ]
  },
  {
   "cell_type": "code",
   "execution_count": 76,
   "metadata": {
    "ExecuteTime": {
     "end_time": "2019-03-25T18:52:57.047940Z",
     "start_time": "2019-03-25T18:52:56.995512Z"
    }
   },
   "outputs": [],
   "source": [
    "def get_batch(samples, batch_size, batch_idx, labels=None):\n",
    "    start_pos = batch_idx * batch_size\n",
    "    end_pos = start_pos + batch_size\n",
    "    if labels is None:\n",
    "        return samples[start_pos:end_pos], None\n",
    "    else:\n",
    "        if type(labels) == tuple: # two sets of labels\n",
    "            assert len(labels) == 2\n",
    "            return samples[start_pos:end_pos], \\\n",
    "                   labels[0][start_pos:end_pos], \\\n",
    "                   labels[1][start_pos:end_pos]\n",
    "        else:\n",
    "            assert type(labels) == np.ndarray\n",
    "            return samples[start_pos:end_pos], labels[start_pos:end_pos]\n",
    "\n",
    "\n",
    "# Create a wall of generated time series\n",
    "def plot_generated_time_series(epoch, generated_lc, \n",
    "                               test_lc=None, examples=8,\n",
    "                               dim=(2, 4), figsize=(16, 4),\n",
    "                               use_time=True, use_err=True):\n",
    "\n",
    "    fig, ax = plt.subplots(nrows=dim[0], ncols=dim[1], figsize=figsize)\n",
    "    fig.suptitle('Real (black), Gen (blue) LCs Epoch %i' % (epoch), \n",
    "                 fontsize=20, y=1.05)\n",
    "    for i in range(dim[0]):\n",
    "        for j in range(dim[1]):\n",
    "            if use_time and use_err:\n",
    "                if j == 0 and test_lc is not None:\n",
    "                    ax[i,j].errorbar(test_lc[i, :, 0], test_lc[i, :, 1],\n",
    "                                     yerr=test_lc[i, :, 2], fmt='k.')\n",
    "                else:\n",
    "                    ax[i,j].errorbar(generated_lc[(j+i) + j, :, 0], \n",
    "                                     generated_lc[(j+i) + j, :, 1],\n",
    "                                     yerr=generated_lc[(j+i) + j, :, 2], \n",
    "                                     fmt='.', c='royalblue')\n",
    "            elif use_time and not use_err:\n",
    "                if j == 0 and test_lc is not None:\n",
    "                    ax[i,j].plot(test_lc[i, :, 0], test_lc[i, :, 1], 'k.')\n",
    "                else:\n",
    "                    ax[i,j].plot(generated_lc[(j+i) + j, :, 0], \n",
    "                                 generated_lc[(j+i) + j, :, 1], '.', \n",
    "                                 c='royalblue')\n",
    "            elif not use_time and not use_err:\n",
    "                if j == 0 and test_lc is not None:\n",
    "                    ax[i,j].plot(test_lc[i, :], 'k.')\n",
    "                else:\n",
    "                    ax[i,j].plot(generated_lc[(j+i) + j, :], '.', \n",
    "                                 c='royalblue')\n",
    "    plt.tight_layout()\n",
    "    # plt.savefig('gan_generated_image_epoch_%d.png' % epoch)\n",
    "    buf = io.BytesIO()\n",
    "    plt.savefig(buf, format='png')\n",
    "    buf.seek(0)\n",
    "    plt.show()\n",
    "    return buf\n",
    "\n",
    "\n",
    "def write_log_scalar(writer, names, logs, step):\n",
    "    for name, value in zip(names, logs):\n",
    "        summary = tf.Summary()\n",
    "        summary_value = summary.value.add()\n",
    "        summary_value.simple_value = value\n",
    "        summary_value.tag = name\n",
    "        writer.add_summary(summary, step)\n",
    "        writer.flush()"
   ]
  },
  {
   "cell_type": "code",
   "execution_count": 77,
   "metadata": {
    "ExecuteTime": {
     "end_time": "2019-03-25T18:52:57.243733Z",
     "start_time": "2019-03-25T18:52:57.220860Z"
    }
   },
   "outputs": [],
   "source": [
    "def normalize(data, norm_time=False, scale_to=[0, 1], n_feat=2):\n",
    "    normed = np.zeros_like(data)\n",
    "    for i, lc in enumerate(data):     \n",
    "        for f in range(n_feat):\n",
    "            normed[i, :, f] = lc[:, f]\n",
    "            ## normalize time if asked\n",
    "            if f == 0 and norm_time:\n",
    "                normed[i, :, f] = (lc[:, f] - np.min(lc[:, f])) / \\\n",
    "                                  (np.max(lc[:, f]) - np.min(lc[:, f]))\n",
    "            ## normalize other feature values\n",
    "            if f > 0:\n",
    "                normed[i, :, f] = (lc[:, f] - np.min(lc[:, f])) / \\\n",
    "                                  (np.max(lc[:, f]) - np.min(lc[:, f]))\n",
    "            ## scale feature values if asked\n",
    "            if scale_to != [0, 1]:\n",
    "                normed[i, :, f] = (normed[i, :, f] * (scale_to[1] - scale_to[0])) + scale_to[0]\n",
    "    return normed\n",
    "\n",
    "\n",
    "def standarize(data, stand_time=False):\n",
    "    standar = np.zeros_like(data)\n",
    "    for i, lc in enumerate(data):\n",
    "        standar[i, :, 1] = (lc[:, 1] - np.mean(lc[:, 1])) / np.std(lc[:, 1])\n",
    "        if stand_time:\n",
    "            standar[i, :, 0] = (lc[:, 0] - np.mean(lc[:, 0])) / np.std(lc[:, 0])\n",
    "        else:\n",
    "            standar[i, :, 0] = lc[:, 0]\n",
    "    return standar\n",
    "\n",
    "def return_dt(data, axis=2, n_feat=3):\n",
    "    data[:, :, 0] = data[:, :, 0] - np.min(data[:, :, 0])\n",
    "    return data"
   ]
  },
  {
   "cell_type": "markdown",
   "metadata": {},
   "source": [
    "# 3. Main program"
   ]
  },
  {
   "cell_type": "markdown",
   "metadata": {},
   "source": [
    "### global settings"
   ]
  },
  {
   "cell_type": "code",
   "execution_count": 85,
   "metadata": {
    "ExecuteTime": {
     "end_time": "2019-03-25T20:40:52.401504Z",
     "start_time": "2019-03-25T20:40:52.349480Z"
    }
   },
   "outputs": [
    {
     "name": "stdout",
     "output_type": "stream",
     "text": [
      "GAN_synth_timeT_errT\n"
     ]
    }
   ],
   "source": [
    "data = 'synth'\n",
    "num_samples = 14000\n",
    "seq_length = 100\n",
    "num_signals = 1            # number of observed bands\n",
    "cond_dim = 0\n",
    "max_val = 1\n",
    "one_hot = False            # non repeated condition among cond_dim\n",
    "predict_labels = False\n",
    "hidden_units_g = 64\n",
    "hidden_units_d = 64\n",
    "num_layers = 2\n",
    "dropout = 0.2\n",
    "bidirect = False\n",
    "smooth_labels = True\n",
    "kappa = 1\n",
    "latent_dim = 5\n",
    "batch_norm = True\n",
    "learning_rate = 0.001\n",
    "batch_size = 28\n",
    "num_epochs = 200\n",
    "D_rounds = 1\n",
    "G_rounds = 1\n",
    "use_time = True\n",
    "use_err = True\n",
    "shuffle = True\n",
    "wrong_labels = False\n",
    "vis_freq = 5\n",
    "n_feat = 3   # number of generated features = 3[time, mag, err]*num_signals\n",
    "    \n",
    "if use_time and use_err:\n",
    "    n_feat = 3 * num_signals\n",
    "    identifier = 'band%s_TME' % (identifier)\n",
    "elif use_time and not use_err:\n",
    "    n_feat = 2 * num_signals\n",
    "    identifier = 'band%s_TM' % (identifier)\n",
    "elif not use_time and use_err:\n",
    "    n_feat = 2 * num_signals\n",
    "    identifier = 'band%s_ME' % (identifier)\n",
    "elif not use_time and not use_err:\n",
    "    n_feat = 1 * num_signals\n",
    "    identifier = 'band%s_M' % (identifier)\n",
    "    \n",
    "model_name = 'GAN_%s_time%s_err%s' % (data, str(use_time)[0], str(use_err)[0])\n",
    "print(model_name)"
   ]
  },
  {
   "cell_type": "markdown",
   "metadata": {},
   "source": [
    "### retrieve data"
   ]
  },
  {
   "cell_type": "code",
   "execution_count": 86,
   "metadata": {
    "ExecuteTime": {
     "end_time": "2019-03-25T20:40:53.186106Z",
     "start_time": "2019-03-25T20:40:53.155708Z"
    }
   },
   "outputs": [],
   "source": [
    "def load_synthetic_time_series(data_path=None, n_samples=14000, seq_length=50,\n",
    "                               time_span=4, n_bands=1, n_signals=1, SNR_min=5,\n",
    "                               f0_interval='narrow', use_time=True, \n",
    "                               use_err=True):\n",
    "\n",
    "    if f0_interval == 'narrow':\n",
    "        f0_inter=[1/10., 1/1.]\n",
    "    elif f0_interval == 'wide':\n",
    "        f0_inter=[1/100., 1/0.01]\n",
    "    else:\n",
    "        print('Plese define frequency interval...')\n",
    "        return\n",
    "    if os.path.exists(data_path):\n",
    "        print('Loading from: ', data_path)\n",
    "        aux = np.load(data_path).item()\n",
    "        samples = aux['samples']\n",
    "        labels = np.array(aux['labels'])[:, None]\n",
    "        periods = aux['periods']\n",
    "        if n_bands == 1:\n",
    "            samples = samples.reshape(samples.shape[0], samples.shape[2],\n",
    "                                      samples.shape[3])\n",
    "        del aux\n",
    "        if use_time and not use_err:\n",
    "            samples = samples[:, :, 0:2]\n",
    "        if not use_time and not use_err:\n",
    "            samples = samples[:, :, 1:2]\n",
    "    else:\n",
    "        print('File does not exist...')\n",
    "    print(samples[:n_samples].shape)\n",
    "    return samples[:n_samples], labels[:n_samples], periods[:n_samples]\n",
    "\n",
    "\n",
    "def load_real_time_series(data_path=None, survey='EROS2', n_bands=2,\n",
    "                          use_time=True, use_err=True, \n",
    "                          n_samples=100):\n",
    "    if os.path.exists(data_path):\n",
    "        print('Loading from: ', data_path)\n",
    "        aux = joblib.load(data_path)\n",
    "        lcs = aux['lcs']\n",
    "        meta = aux['meta']\n",
    "        del aux\n",
    "        lcs = np.stack([x.values for x in lcs])\n",
    "        print(lcs.shape)\n",
    "        if n_bands == 1:\n",
    "            lcs = lcs[:, :, 0:3]\n",
    "        if use_time and not use_err:\n",
    "            lcs = lcs[:, :, 0:2]\n",
    "        if not use_time and not use_err:\n",
    "            lcs = lcs[:, :, 1:2]\n",
    "    else:\n",
    "        print('No file...')\n",
    "        return\n",
    "    lcs = lcs[:n_samples]\n",
    "    labels = meta.Type[:n_samples].values\n",
    "    label_encoder = preprocessing.LabelEncoder()\n",
    "    label_encoder.fit(labels)\n",
    "    labels = label_encoder.transform(labels)\n",
    "\n",
    "    print('Samples shape: ', lcs.shape)\n",
    "    return lcs, labels, meta[:n_samples]"
   ]
  },
  {
   "cell_type": "code",
   "execution_count": 87,
   "metadata": {
    "ExecuteTime": {
     "end_time": "2019-03-25T20:40:54.169430Z",
     "start_time": "2019-03-25T20:40:53.571032Z"
    }
   },
   "outputs": [
    {
     "name": "stdout",
     "output_type": "stream",
     "text": [
      "Loading from:  /Users/jorgetil/Astro/TL-GANs/data/synthetic/sine_nsamples28000_seqlength100_nbands1_nsig1_timespan4_SNR3_f0narrow.npy\n",
      "(14000, 100, 3)\n"
     ]
    }
   ],
   "source": [
    "if data == 'synth':\n",
    "    data_path = ('%s/data/synthetic/sine_nsamples%i_seqlength%i_nbands%i_nsig%i_timespan%i_SNR%i_f0%s.npy'\n",
    "             % (main_path, 28000, 100, 1, 1, 4, 3, 'narrow'))\n",
    "    lightcurves, labels, meta = load_synthetic_time_series(data_path, \n",
    "                                                           use_time=use_time,\n",
    "                                                           use_err=use_err,\n",
    "                                                           n_samples=num_samples)\n",
    "elif data == 'eros':\n",
    "    data_path = '%s/data/real/EROS2_meta+lcs_B_sample_lc_trim_augmented.pkl' % (main_path)\n",
    "    lightcurves, labels, meta = load_real_time_series(data_path, \n",
    "                                                      use_time=use_time, \n",
    "                                                      use_err=use_err, \n",
    "                                                      n_samples=num_samples)"
   ]
  },
  {
   "cell_type": "code",
   "execution_count": 88,
   "metadata": {
    "ExecuteTime": {
     "end_time": "2019-03-25T20:40:54.248604Z",
     "start_time": "2019-03-25T20:40:54.174029Z"
    }
   },
   "outputs": [],
   "source": [
    "train, test, p_train, p_test = model_selection.train_test_split(lightcurves, labels,\n",
    "                                                                train_size=0.6)\n",
    "test, vali, p_test, p_vali = model_selection.train_test_split(test, p_test,\n",
    "                                                              train_size=0.5)\n",
    "lightcurves = {}\n",
    "lightcurves['train'] = train\n",
    "lightcurves['vali'] = vali\n",
    "lightcurves['test'] = test\n",
    "labels = {}\n",
    "labels['train'] = p_train\n",
    "labels['vali'] = p_vali\n",
    "labels['test'] = p_test\n",
    "\n",
    "del train, test, vali"
   ]
  },
  {
   "cell_type": "markdown",
   "metadata": {
    "ExecuteTime": {
     "end_time": "2019-01-23T23:11:44.294671Z",
     "start_time": "2019-01-23T23:11:44.233078Z"
    }
   },
   "source": [
    "### build model"
   ]
  },
  {
   "cell_type": "code",
   "execution_count": 89,
   "metadata": {
    "ExecuteTime": {
     "end_time": "2019-03-25T20:40:54.758494Z",
     "start_time": "2019-03-25T20:40:54.744116Z"
    }
   },
   "outputs": [],
   "source": [
    "train_vars = ['batch_size', 'D_rounds', 'G_rounds', \n",
    "              'use_time', 'seq_length',\n",
    "              'latent_dim', 'n_feat', 'cond_dim', \n",
    "              'max_val', 'one_hot', 'learning_rate',\n",
    "              'smooth_labels']\n",
    "train_settings = dict((k, eval(k)) for k in train_vars)"
   ]
  },
  {
   "cell_type": "code",
   "execution_count": 90,
   "metadata": {
    "ExecuteTime": {
     "end_time": "2019-03-25T20:40:58.569194Z",
     "start_time": "2019-03-25T20:40:55.402757Z"
    }
   },
   "outputs": [
    {
     "name": "stdout",
     "output_type": "stream",
     "text": [
      "Real LC from sample...\n"
     ]
    },
    {
     "data": {
      "image/png": "[encoded data removed]",
      "text/plain": [
       "<Figure size 1152x288 with 8 Axes>"
      ]
     },
     "metadata": {
      "needs_background": "light"
     },
     "output_type": "display_data"
    },
    {
     "name": "stdout",
     "output_type": "stream",
     "text": [
      "Latend space sample...\n"
     ]
    },
    {
     "data": {
      "image/png": "[encoded data removed]",
      "text/plain": [
       "<Figure size 1152x288 with 8 Axes>"
      ]
     },
     "metadata": {
      "needs_background": "light"
     },
     "output_type": "display_data"
    }
   ],
   "source": [
    "print('Real LC from sample...')\n",
    "vis_real_idx = np.random.randint(0, len(lightcurves['vali']), size=8)\n",
    "vis_real = np.float32(lightcurves['vali'][vis_real_idx, :, :])\n",
    "_ = plot_generated_time_series(0, vis_real, examples=8,\n",
    "                               use_time=use_time,\n",
    "                               use_err=use_err)\n",
    "print('Latend space sample...')\n",
    "vis_Z = sample_Z(batch_size, seq_length,\n",
    "                 latent_dim, use_time=use_time,\n",
    "                 only_one=False)\n",
    "_ = plot_generated_time_series(0, vis_Z, examples=8,\n",
    "                               use_time=use_time,\n",
    "                               use_err=use_err)"
   ]
  },
  {
   "cell_type": "markdown",
   "metadata": {},
   "source": [
    "## Train Model"
   ]
  },
  {
   "cell_type": "code",
   "execution_count": 91,
   "metadata": {
    "ExecuteTime": {
     "end_time": "2019-03-25T20:41:03.516339Z",
     "start_time": "2019-03-25T20:41:00.625754Z"
    },
    "scrolled": false
   },
   "outputs": [
    {
     "name": "stdout",
     "output_type": "stream",
     "text": [
      "Discriminator\n",
      "--------------------\n",
      " hidden_units_d\t:64\n",
      "     seq_length\t:100\n",
      "     batch_size\t:28\n",
      "       cond_dim\t:0\n",
      "     num_layers\t:2\n",
      "        dropout\t:0.2\n",
      "     batch_mean\t:False\n",
      "     batch_norm\t:True\n",
      "--------------------\n",
      "Generator\n",
      "--------------------\n",
      " hidden_units_g\t:64\n",
      "     seq_length\t:100\n",
      "     batch_size\t:28\n",
      "       cond_dim\t:0\n",
      "     num_layers\t:2\n",
      "        dropout\t:0.2\n",
      "         n_feat\t:3\n",
      "--------------------\n",
      "Train settings\n",
      "--------------------\n",
      "     batch_size\t:28\n",
      "       D_rounds\t:1\n",
      "       G_rounds\t:1\n",
      "       use_time\t:True\n",
      "     seq_length\t:100\n",
      "     latent_dim\t:5\n",
      "         n_feat\t:3\n",
      "       cond_dim\t:0\n",
      "        max_val\t:1\n",
      "        one_hot\t:False\n",
      "  learning_rate\t:0.001\n",
      "  smooth_labels\t:True\n",
      "--------------------\n",
      "/Users/jorgetil/Astro/TL-GANs/logs/GAN_synth_timeT_errT/lstm_units64_drop20_nlayers2_Dr1_Gr1_smoothLT_bnT/run_190325_0141\n"
     ]
    },
    {
     "ename": "ValueError",
     "evalue": "logits and labels must have the same shape ((28, 100, 1) vs (1,))",
     "output_type": "error",
     "traceback": [
      "\u001b[0;31m---------------------------------------------------------------------------\u001b[0m",
      "\u001b[0;31mValueError\u001b[0m                                Traceback (most recent call last)",
      "\u001b[0;32m~/miniconda3/envs/keras/lib/python3.6/site-packages/tensorflow/python/framework/tensor_shape.py\u001b[0m in \u001b[0;36mmerge_with\u001b[0;34m(self, other)\u001b[0m\n\u001b[1;32m    670\u001b[0m       \u001b[0;32mtry\u001b[0m\u001b[0;34m:\u001b[0m\u001b[0;34m\u001b[0m\u001b[0;34m\u001b[0m\u001b[0m\n\u001b[0;32m--> 671\u001b[0;31m         \u001b[0mself\u001b[0m\u001b[0;34m.\u001b[0m\u001b[0massert_same_rank\u001b[0m\u001b[0;34m(\u001b[0m\u001b[0mother\u001b[0m\u001b[0;34m)\u001b[0m\u001b[0;34m\u001b[0m\u001b[0;34m\u001b[0m\u001b[0m\n\u001b[0m\u001b[1;32m    672\u001b[0m         \u001b[0mnew_dims\u001b[0m \u001b[0;34m=\u001b[0m \u001b[0;34m[\u001b[0m\u001b[0;34m]\u001b[0m\u001b[0;34m\u001b[0m\u001b[0;34m\u001b[0m\u001b[0m\n",
      "\u001b[0;32m~/miniconda3/envs/keras/lib/python3.6/site-packages/tensorflow/python/framework/tensor_shape.py\u001b[0m in \u001b[0;36massert_same_rank\u001b[0;34m(self, other)\u001b[0m\n\u001b[1;32m    715\u001b[0m         raise ValueError(\"Shapes %s and %s must have the same rank\" % (self,\n\u001b[0;32m--> 716\u001b[0;31m                                                                        other))\n\u001b[0m\u001b[1;32m    717\u001b[0m \u001b[0;34m\u001b[0m\u001b[0m\n",
      "\u001b[0;31mValueError\u001b[0m: Shapes (1,) and (28, 100, 1) must have the same rank",
      "\nDuring handling of the above exception, another exception occurred:\n",
      "\u001b[0;31mValueError\u001b[0m                                Traceback (most recent call last)",
      "\u001b[0;32m~/miniconda3/envs/keras/lib/python3.6/site-packages/tensorflow/python/ops/nn_impl.py\u001b[0m in \u001b[0;36msigmoid_cross_entropy_with_logits\u001b[0;34m(_sentinel, labels, logits, name)\u001b[0m\n\u001b[1;32m    162\u001b[0m     \u001b[0;32mtry\u001b[0m\u001b[0;34m:\u001b[0m\u001b[0;34m\u001b[0m\u001b[0;34m\u001b[0m\u001b[0m\n\u001b[0;32m--> 163\u001b[0;31m       \u001b[0mlabels\u001b[0m\u001b[0;34m.\u001b[0m\u001b[0mget_shape\u001b[0m\u001b[0;34m(\u001b[0m\u001b[0;34m)\u001b[0m\u001b[0;34m.\u001b[0m\u001b[0mmerge_with\u001b[0m\u001b[0;34m(\u001b[0m\u001b[0mlogits\u001b[0m\u001b[0;34m.\u001b[0m\u001b[0mget_shape\u001b[0m\u001b[0;34m(\u001b[0m\u001b[0;34m)\u001b[0m\u001b[0;34m)\u001b[0m\u001b[0;34m\u001b[0m\u001b[0;34m\u001b[0m\u001b[0m\n\u001b[0m\u001b[1;32m    164\u001b[0m     \u001b[0;32mexcept\u001b[0m \u001b[0mValueError\u001b[0m\u001b[0;34m:\u001b[0m\u001b[0;34m\u001b[0m\u001b[0;34m\u001b[0m\u001b[0m\n",
      "\u001b[0;32m~/miniconda3/envs/keras/lib/python3.6/site-packages/tensorflow/python/framework/tensor_shape.py\u001b[0m in \u001b[0;36mmerge_with\u001b[0;34m(self, other)\u001b[0m\n\u001b[1;32m    676\u001b[0m       \u001b[0;32mexcept\u001b[0m \u001b[0mValueError\u001b[0m\u001b[0;34m:\u001b[0m\u001b[0;34m\u001b[0m\u001b[0;34m\u001b[0m\u001b[0m\n\u001b[0;32m--> 677\u001b[0;31m         \u001b[0;32mraise\u001b[0m \u001b[0mValueError\u001b[0m\u001b[0;34m(\u001b[0m\u001b[0;34m\"Shapes %s and %s are not compatible\"\u001b[0m \u001b[0;34m%\u001b[0m \u001b[0;34m(\u001b[0m\u001b[0mself\u001b[0m\u001b[0;34m,\u001b[0m \u001b[0mother\u001b[0m\u001b[0;34m)\u001b[0m\u001b[0;34m)\u001b[0m\u001b[0;34m\u001b[0m\u001b[0;34m\u001b[0m\u001b[0m\n\u001b[0m\u001b[1;32m    678\u001b[0m \u001b[0;34m\u001b[0m\u001b[0m\n",
      "\u001b[0;31mValueError\u001b[0m: Shapes (1,) and (28, 100, 1) are not compatible",
      "\nDuring handling of the above exception, another exception occurred:\n",
      "\u001b[0;31mValueError\u001b[0m                                Traceback (most recent call last)",
      "\u001b[0;32m<ipython-input-91-c3cd97348852>\u001b[0m in \u001b[0;36m<module>\u001b[0;34m\u001b[0m\n\u001b[1;32m     43\u001b[0m                                   \u001b[0mCGAN\u001b[0m\u001b[0;34m,\u001b[0m \u001b[0mCG\u001b[0m\u001b[0;34m,\u001b[0m \u001b[0mCD\u001b[0m\u001b[0;34m,\u001b[0m \u001b[0mCS\u001b[0m\u001b[0;34m,\u001b[0m\u001b[0;34m\u001b[0m\u001b[0;34m\u001b[0m\u001b[0m\n\u001b[1;32m     44\u001b[0m                                   \u001b[0msmooth_labels\u001b[0m\u001b[0;34m=\u001b[0m\u001b[0msmooth_labels\u001b[0m\u001b[0;34m,\u001b[0m\u001b[0;34m\u001b[0m\u001b[0;34m\u001b[0m\u001b[0m\n\u001b[0;32m---> 45\u001b[0;31m                                   wrong_labels=wrong_labels)\n\u001b[0m\u001b[1;32m     46\u001b[0m D_solver, G_solver = GAN_solvers(D_loss, G_loss,\n\u001b[1;32m     47\u001b[0m                                  learning_rate)\n",
      "\u001b[0;32m<ipython-input-74-c3902396ac47>\u001b[0m in \u001b[0;36mGAN_loss\u001b[0;34m(Z, X, generator_settings, discriminator_settings, cond, CG, CD, CS, wrong_labels, smooth_labels)\u001b[0m\n\u001b[1;32m     38\u001b[0m \u001b[0;34m\u001b[0m\u001b[0m\n\u001b[1;32m     39\u001b[0m         D_loss_real = tf.reduce_mean(tf.nn.sigmoid_cross_entropy_with_logits(\n\u001b[0;32m---> 40\u001b[0;31m             logits=D_logit_real, labels=label_real), 1)\n\u001b[0m\u001b[1;32m     41\u001b[0m         D_loss_fake = tf.reduce_mean(tf.nn.sigmoid_cross_entropy_with_logits(\n\u001b[1;32m     42\u001b[0m             logits=D_logit_fake, labels=label_fake), 1)\n",
      "\u001b[0;32m~/miniconda3/envs/keras/lib/python3.6/site-packages/tensorflow/python/ops/nn_impl.py\u001b[0m in \u001b[0;36msigmoid_cross_entropy_with_logits\u001b[0;34m(_sentinel, labels, logits, name)\u001b[0m\n\u001b[1;32m    164\u001b[0m     \u001b[0;32mexcept\u001b[0m \u001b[0mValueError\u001b[0m\u001b[0;34m:\u001b[0m\u001b[0;34m\u001b[0m\u001b[0;34m\u001b[0m\u001b[0m\n\u001b[1;32m    165\u001b[0m       raise ValueError(\"logits and labels must have the same shape (%s vs %s)\" %\n\u001b[0;32m--> 166\u001b[0;31m                        (logits.get_shape(), labels.get_shape()))\n\u001b[0m\u001b[1;32m    167\u001b[0m \u001b[0;34m\u001b[0m\u001b[0m\n\u001b[1;32m    168\u001b[0m     \u001b[0;31m# The logistic loss formula from above is\u001b[0m\u001b[0;34m\u001b[0m\u001b[0;34m\u001b[0m\u001b[0;34m\u001b[0m\u001b[0m\n",
      "\u001b[0;31mValueError\u001b[0m: logits and labels must have the same shape ((28, 100, 1) vs (1,))"
     ]
    }
   ],
   "source": [
    "discriminator_vars = ['hidden_units_d', 'seq_length', 'batch_size', \n",
    "                      'cond_dim', 'num_layers', 'dropout',\n",
    "                      'batch_mean', 'batch_norm']\n",
    "discriminator_settings = dict((k, eval(k)) for k in discriminator_vars)\n",
    "generator_vars = ['hidden_units_g', 'seq_length', 'batch_size',\n",
    "                  'cond_dim', 'num_layers', 'dropout',\n",
    "                  'n_feat']\n",
    "generator_settings = dict((k, eval(k)) for k in generator_vars)\n",
    "\n",
    "print('Discriminator')\n",
    "print('--------------------')\n",
    "for key, value in discriminator_settings.items():\n",
    "    print('%15s\\t:%s' % (key, value))\n",
    "print('--------------------')\n",
    "print('Generator')\n",
    "print('--------------------')\n",
    "for key, value in generator_settings.items():\n",
    "    print('%15s\\t:%s' % (key, value))\n",
    "print('--------------------')\n",
    "print('Train settings')\n",
    "print('--------------------')\n",
    "for key, value in train_settings.items():\n",
    "    print('%15s\\t:%s' % (key, value))\n",
    "print('--------------------')\n",
    "log_dir = ('%s/logs/%s/%s_units%i_drop%i_nlayers%i_Dr%i_Gr%i_smoothL%s_bn%s/run_%s' % \n",
    "           (main_path, model_name, 'lstm', hidden_units_d,\n",
    "            int(dropout*100), num_layers, D_rounds, G_rounds,\n",
    "            str(smooth_labels)[0], str(batch_norm)[0],\n",
    "            datetime.datetime.now().strftime(\"%y%m%d_%I%M\")))\n",
    "print(log_dir)\n",
    "\n",
    "tf.reset_default_graph()\n",
    "Z, X, CG, CD, CS = create_placeholders(batch_size,\n",
    "                                       seq_length,\n",
    "                                       latent_dim,\n",
    "                                       n_feat,\n",
    "                                       cond_dim)\n",
    "\n",
    "CGAN = (cond_dim > 0)\n",
    "\n",
    "D_loss, G_loss, D_acc = GAN_loss(Z, X, generator_settings, \n",
    "                                  discriminator_settings,\n",
    "                                  CGAN, CG, CD, CS, \n",
    "                                  smooth_labels=smooth_labels,\n",
    "                                  wrong_labels=wrong_labels)\n",
    "D_solver, G_solver = GAN_solvers(D_loss, G_loss,\n",
    "                                 learning_rate)\n",
    "with tf.name_scope('Vizualization'):\n",
    "    G_sample = generator(Z, **generator_settings, reuse=True, c=CG)\n",
    "\n",
    "###########################################################################\n",
    "\n",
    "# initialize tensorflow session\n",
    "sess = tf.Session()\n",
    "tf.summary.scalar('D_loss', D_loss)\n",
    "tf.summary.scalar('G_loss', G_loss)\n",
    "tf.summary.scalar('D_acc', D_acc)\n",
    "merged_summary = tf.summary.merge_all()\n",
    "sess.run(tf.global_variables_initializer())\n",
    "summary_writer = tf.summary.FileWriter(log_dir, sess.graph)\n",
    "\n",
    "###########################################################################\n",
    "\n",
    "for epoch in range(num_epochs):\n",
    "    samples = lightcurves['train']\n",
    "    ## train in batches...\n",
    "    for batch_idx in tnrange(0, int(len(samples) / batch_size) -\n",
    "                             (D_rounds + (cond_dim > 0)*G_rounds),\n",
    "                             D_rounds + (cond_dim > 0)*G_rounds,\n",
    "                             desc='Epoch: %i' % (epoch), leave=False):\n",
    "        ## update the discriminator\n",
    "        iteration = epoch * int(len(samples) / batch_size) + batch_idx\n",
    "        for d in range(D_rounds):\n",
    "\n",
    "            X_mb, Y_mb = get_batch(samples, batch_size, \n",
    "                                   batch_idx + d, labels['train'])\n",
    "            Z_mb = sample_Z(batch_size, seq_length, latent_dim, \n",
    "                            use_time=use_time, only_one=False)\n",
    "            if cond_dim > 0:\n",
    "                # CGAN\n",
    "                Y_mb = Y_mb.reshape(-1, cond_dim)\n",
    "                if one_hot:\n",
    "                    # change all of the labels to a different one\n",
    "                    offsets = np.random.choice(cond_dim-1, batch_size) + 1\n",
    "                    new_labels = (np.argmax(Y_mb, axis=1) + offsets) % cond_dim\n",
    "                    Y_wrong = np.zeros_like(Y_mb)\n",
    "                    Y_wrong[np.arange(batch_size), new_labels] = 1\n",
    "                else:\n",
    "                    # flip all of the bits (assuming binary...)\n",
    "                    Y_wrong = 1 - Y_mb\n",
    "                _ = sess.run(D_solver, feed_dict={X: X_mb, Z: Z_mb,\n",
    "                                                  CD: Y_mb, CS: Y_wrong,\n",
    "                                                  CG: Y_mb})\n",
    "            else:\n",
    "                _ = sess.run(D_solver, feed_dict={X: X_mb, Z: Z_mb})\n",
    "\n",
    "        ## update the generator\n",
    "        for g in range(G_rounds):\n",
    "            if cond_dim > 0:\n",
    "                # note we are essentially throwing these X_mb away...\n",
    "                X_mb, Y_mb = get_batch(samples, batch_size,\n",
    "                                       batch_idx + D_rounds + g,\n",
    "                                       labels['train'])\n",
    "                _ = sess.run(G_solver,\n",
    "                             feed_dict={Z: sample_Z(batch_size, seq_length,\n",
    "                                                    latent_dim,\n",
    "                                                    use_time=use_time,\n",
    "                                                    only_one=False),\n",
    "                                        CG: Y_mb})\n",
    "            else:\n",
    "                _ = sess.run(G_solver,\n",
    "                             feed_dict={Z: sample_Z(batch_size, seq_length,\n",
    "                                                    latent_dim,\n",
    "                                                    use_time=use_time,\n",
    "                                                    only_one=False)})\n",
    "        ## Get Loss values at the end of 50 batch\n",
    "        if iteration % 50 == 0:\n",
    "            if cond_dim > 0:\n",
    "                summary_val = sess.run(merged_summary,\n",
    "                                       feed_dict={X: X_mb,\n",
    "                                                  Z: sample_Z(batch_size,\n",
    "                                                              seq_length,\n",
    "                                                              latent_dim,\n",
    "                                                              use_time=use_time,\n",
    "                                                              only_one=False),\n",
    "                                                  CG: Y_mb, CD: Y_mb})\n",
    "            else:\n",
    "                summary_val = sess.run(merged_summary,\n",
    "                                       feed_dict={X: X_mb,\n",
    "                                                  Z: sample_Z(batch_size,\n",
    "                                                              seq_length,\n",
    "                                                              latent_dim,\n",
    "                                                              use_time=use_time,\n",
    "                                                              only_one=False)})\n",
    "            summary_writer.add_summary(summary_val, iteration)\n",
    "\n",
    "    ## visualise plots of generated samples, with/without labels\n",
    "    if epoch % 5 == 0 or epoch == 0:\n",
    "        if CGAN:\n",
    "            vis_C = sample_C(batch_size, cond_dim, max_val, one_hot)\n",
    "            vis_sample = sess.run(G_sample, feed_dict={Z: vis_Z, CG: vis_C})\n",
    "        else:\n",
    "            vis_sample = sess.run(G_sample, feed_dict={Z: vis_Z})\n",
    "        idx_vali = np.random.choice(len(lightcurves['vali']), size=8)\n",
    "        img_buf = plot_generated_time_series(epoch, vis_sample,\n",
    "                                             test_lc=lightcurves['vali'][idx_vali],\n",
    "                                             use_time=use_time,\n",
    "                                             use_err=use_err)\n",
    "        image = tf.image.decode_png(img_buf.getvalue(), channels=4)\n",
    "        image = tf.expand_dims(image, 0)\n",
    "        summary_ima = tf.summary.image(\"Gen_lcs\", image, max_outputs=1)\n",
    "        summary_writer.add_summary(summary_ima.eval(session=sess),\n",
    "                                   iteration)\n",
    "\n",
    "    ## shuffle the training data\n",
    "    if shuffle:     \n",
    "        perm = np.random.permutation(lightcurves['train'].shape[0])\n",
    "        lightcurves['train'] = lightcurves['train'][perm]\n",
    "        if labels['train'] is not None:\n",
    "            labels['train'] = labels['train'][perm]"
   ]
  },
  {
   "cell_type": "code",
   "execution_count": null,
   "metadata": {},
   "outputs": [],
   "source": []
  },
  {
   "cell_type": "code",
   "execution_count": null,
   "metadata": {},
   "outputs": [],
   "source": []
  }
 ],
 "metadata": {
  "kernelspec": {
   "display_name": "Python [conda env:keras]",
   "language": "python",
   "name": "conda-env-keras-py"
  },
  "language_info": {
   "codemirror_mode": {
    "name": "ipython",
    "version": 3
   },
   "file_extension": ".py",
   "mimetype": "text/x-python",
   "name": "python",
   "nbconvert_exporter": "python",
   "pygments_lexer": "ipython3",
   "version": "3.6.8"
  },
  "varInspector": {
   "cols": {
    "lenName": 16,
    "lenType": 16,
    "lenVar": 40
   },
   "kernels_config": {
    "python": {
     "delete_cmd_postfix": "",
     "delete_cmd_prefix": "del ",
     "library": "var_list.py",
     "varRefreshCmd": "print(var_dic_list())"
    },
    "r": {
     "delete_cmd_postfix": ") ",
     "delete_cmd_prefix": "rm(",
     "library": "var_list.r",
     "varRefreshCmd": "cat(var_dic_list()) "
    }
   },
   "position": {
    "height": "435px",
    "left": "925px",
    "right": "20px",
    "top": "120px",
    "width": "335px"
   },
   "types_to_exclude": [
    "module",
    "function",
    "builtin_function_or_method",
    "instance",
    "_Feature"
   ],
   "window_display": false
  }
 },
 "nbformat": 4,
 "nbformat_minor": 2
}
